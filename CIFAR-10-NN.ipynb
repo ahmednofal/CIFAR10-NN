{
 "cells": [
  {
   "cell_type": "code",
   "execution_count": null,
   "metadata": {
    "collapsed": false
   },
   "outputs": [],
   "source": [
    "import numpy as np\n",
    "from keras.optimizers import SGD\n",
    "\n",
    "\n",
    "np.random.seed(1337)\n",
    "\n",
    "\n",
    "from keras.datasets import cifar10\n",
    "from keras.preprocessing.image import ImageDataGenerator\n",
    "from keras.models import Sequential\n",
    "from keras.layers import Dense, Dropout, Activation, Flatten\n",
    "from keras.layers.advanced_activations import LeakyReLU, ELU, PReLU\n",
    "from keras.activations import relu, tanh, elu\n",
    "from keras.utils import np_utils"
   ]
  },
  {
   "cell_type": "code",
   "execution_count": null,
   "metadata": {
    "collapsed": false
   },
   "outputs": [],
   "source": [
    "# Load the raw CIFAR-10 data.\n",
    "\n",
    "(X_train, y_train), (X_test, y_test) = cifar10.load_data()"
   ]
  },
  {
   "cell_type": "code",
   "execution_count": null,
   "metadata": {
    "collapsed": true
   },
   "outputs": [],
   "source": [
    "model = Sequential()"
   ]
  },
  {
   "cell_type": "code",
   "execution_count": null,
   "metadata": {
    "collapsed": false
   },
   "outputs": [],
   "source": [
    "#TO DO\n",
    "# Model the architecture\n",
    "# It consists of \n",
    "# 1- input the images one at a time each of them is 3072 + 1 bias\n",
    "#     Flatten the images\n",
    "#     \n",
    "X_train = X_train.reshape(X_train.shape[0], -1).astype('float32') / 255\n",
    "\n",
    "inputdim = X_train + 1\n",
    "\n",
    "model.add(Dense(output_dim=3000,input_dim=inputdim, activation = 'ReLU'))\n",
    "\n",
    "model.add(Dense(output_dim=3000,input_dim=inputdim, activation = PRelu()))\n",
    "model.add(Dense(output_dim=3000,input_dim=inputdim, activation = LeakyReLU()))\n",
    "model.add(Dense(output_dim=1000,input_dim=inputdim, activation = ELU()))\n",
    "model.add(Dense(output_dim=10,input_dim=inputdim, activation = 'softmax'))\n",
    "\n",
    "model.compile(loss='categorical_crossentropy', optimizer='sgd', metrics=['accuracy'])\n",
    "\n",
    "model.fit(X_train, y_train,nb_epoch=20,batch_size=32)\n",
    "score = model.evaluate(X_test, y_test, batch_size=16)"
   ]
  },
  {
   "cell_type": "code",
   "execution_count": null,
   "metadata": {
    "collapsed": true
   },
   "outputs": [],
   "source": []
  },
  {
   "cell_type": "code",
   "execution_count": null,
   "metadata": {
    "collapsed": true
   },
   "outputs": [],
   "source": []
  }
 ],
 "metadata": {
  "kernelspec": {
   "display_name": "Python 3",
   "language": "python",
   "name": "python3"
  },
  "language_info": {
   "codemirror_mode": {
    "name": "ipython",
    "version": 3
   },
   "file_extension": ".py",
   "mimetype": "text/x-python",
   "name": "python",
   "nbconvert_exporter": "python",
   "pygments_lexer": "ipython3",
   "version": "3.6.0"
  }
 },
 "nbformat": 4,
 "nbformat_minor": 2
}
