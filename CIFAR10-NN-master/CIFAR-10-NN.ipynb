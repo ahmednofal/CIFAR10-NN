{
 "cells": [
  {
   "cell_type": "code",
   "execution_count": 15,
   "metadata": {
    "collapsed": false
   },
   "outputs": [],
   "source": [
    "import numpy as np\n",
    "import tensorflow\n",
    "from keras.models import Sequential\n",
    "from data_utils import load_CIFAR10\n",
    "from keras.optimizers import SGD\n",
    "from keras.layers import Dense"
   ]
  },
  {
   "cell_type": "code",
   "execution_count": 16,
   "metadata": {
    "collapsed": false
   },
   "outputs": [],
   "source": [
    "# Load the raw CIFAR-10 data.\n",
    "cifar10_dir =\"cifar-10-batches-py\"\n",
    "X_train_db, y_train_db, X_test, y_test = load_CIFAR10(cifar10_dir)"
   ]
  },
  {
   "cell_type": "code",
   "execution_count": 17,
   "metadata": {
    "collapsed": true
   },
   "outputs": [],
   "source": [
    "model = Sequential()"
   ]
  },
  {
   "cell_type": "code",
   "execution_count": 20,
   "metadata": {
    "collapsed": false
   },
   "outputs": [],
   "source": [
    "#TO DO\n",
    "# Model the architecture\n",
    "# It consists of \n",
    "# 1- input the images one at a time each of them is 3072 + 1 bias\n",
    "#     Flatten the images\n",
    "#     \n",
    "\n",
    "model.add(Dense(output_dim=64,input_dim=3072, activation = None))\n",
    "\n",
    "model.compile(loss='mean_squared_error', optimizer=SGD(lr=0.01, momentum=0, nesterov=False))\n",
    "for i in range(3073):\n",
    "    model.fit(X_train, y_train,nb_epoch=20,batch_size=32)\n",
    "    score = model.evaluate(X_test, y_test, batch_size=16)"
   ]
  },
  {
   "cell_type": "code",
   "execution_count": null,
   "metadata": {
    "collapsed": true
   },
   "outputs": [],
   "source": []
  }
 ],
 "metadata": {
  "kernelspec": {
   "display_name": "Python 3",
   "language": "python",
   "name": "python3"
  },
  "language_info": {
   "codemirror_mode": {
    "name": "ipython",
    "version": 3
   },
   "file_extension": ".py",
   "mimetype": "text/x-python",
   "name": "python",
   "nbconvert_exporter": "python",
   "pygments_lexer": "ipython3",
   "version": "3.6.0"
  }
 },
 "nbformat": 4,
 "nbformat_minor": 2
}
